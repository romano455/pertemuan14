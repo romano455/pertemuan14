{
  "nbformat": 4,
  "nbformat_minor": 0,
  "metadata": {
    "colab": {
      "name": "akurasi .ipynb",
      "provenance": []
    },
    "kernelspec": {
      "name": "python3",
      "display_name": "Python 3"
    },
    "language_info": {
      "name": "python"
    }
  },
  "cells": [
    {
      "cell_type": "code",
      "metadata": {
        "id": "DJbdPGErpIQN"
      },
      "source": [
        "\n",
        "# muhamad nur roochman\n",
        "# A11.2018.11131\n",
        "# tugas 14\n",
        "\n",
        "# import pustaka\n",
        "  import numpy as np\n",
        "  from sklearn.matrixs import accuracy_score \n",
        "  from sklearn.matrix import classification_report\n",
        "# data prediksi dan taraget \n",
        " target=[1,1,1,1,1,1,1,0,0,0,0,0,0]\n",
        " prediksi=[1,1,1,1,0,1,0,0,0,0,0]\n",
        "# mengetahui akurasi \n",
        "  print(classification_report(taget,prediksi))\n",
        "  akurasi=accurcy_score(target,prediksi)\n",
        "  print(\"Akurasi :\", round(akurasi,2))"
      ],
      "execution_count": null,
      "outputs": []
    }
  ]
}