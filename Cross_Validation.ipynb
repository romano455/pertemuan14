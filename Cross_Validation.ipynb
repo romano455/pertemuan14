{
  "nbformat": 4,
  "nbformat_minor": 0,
  "metadata": {
    "colab": {
      "name": "Cross_Validation.ipynb",
      "provenance": []
    },
    "kernelspec": {
      "name": "python3",
      "display_name": "Python 3"
    },
    "language_info": {
      "name": "python"
    }
  },
  "cells": [
    {
      "cell_type": "code",
      "metadata": {
        "id": "cPCKfS8I33v5"
      },
      "source": [
        "# muhamad nur rochman\n",
        "# a11.2018.11131\n",
        "# tugas 14"
      ],
      "execution_count": null,
      "outputs": []
    },
    {
      "cell_type": "code",
      "metadata": {
        "id": "9Wu580HcWbGn"
      },
      "source": [
        "  from numpy import mean \n",
        "  from numpy import std\n",
        "  from sklesrn.dataset import make_classification \n",
        "  from sklearn.model_selectio import KFold\n",
        " from sklearn.model_seletion import cross_val_score\n",
        " from sklearn.linear_model import LogisticRegression\n",
        " \n",
        " # create dataseet \n",
        "\n",
        "x, y = make_classification(n_samples=1000, n_features=20, n_informative=15,\n",
        "                           n_rendundent=5, random_state=1)\n",
        "\n",
        "# prepare the cros-valdation procedue\n",
        "\n",
        "cv = KFold(n_splits=10,random_state=1, shuffle=True)\n",
        "\n",
        "# create model \n",
        "\n",
        "  model = LogisticRegression()\n",
        "\n",
        "#evaluation \n",
        "\n",
        "  scores = cros_val_score(model, x, y, scoring='accuarcy',cv=cvm n_jobs+-1)\n",
        "\n",
        "#report performance\n",
        "   print (scores)\n",
        "  print ('Accuracy: %.3f(%.3f)'%(mean(scores, std(scores)))\n"
      ],
      "execution_count": null,
      "outputs": []
    },
    {
      "cell_type": "code",
      "metadata": {
        "id": "HB43pW3RXYfY"
      },
      "source": [
        "# memangil dataset\n",
        "  dataset = pd.read_excel('Data Penjualan.elsx')\n",
        "  x = dataset.iloc[:, :,-1].values\n",
        "  y = dataset.iloc[:,1].values"
      ],
      "execution_count": null,
      "outputs": []
    },
    {
      "cell_type": "code",
      "metadata": {
        "id": "l6MAy-KLZYbp"
      },
      "source": [
        "dataset.keys()"
      ],
      "execution_count": null,
      "outputs": []
    },
    {
      "cell_type": "code",
      "metadata": {
        "id": "kW9syk-xgoME"
      },
      "source": [
        "dataset.shape"
      ],
      "execution_count": null,
      "outputs": []
    },
    {
      "cell_type": "code",
      "metadata": {
        "id": "h8wRWqFdgu4p"
      },
      "source": [
        "# memangilkan isi sebagai dataset \n",
        "  dataku = pd.Dataframe(dataset)\n",
        "  dataku.head()"
      ],
      "execution_count": null,
      "outputs": []
    },
    {
      "cell_type": "code",
      "metadata": {
        "id": "GVyQMmx2gupX"
      },
      "source": [
        "# melakukan dataset menjadi  Terening  set \n",
        "  from sklearn.model_selection  import train_test_split\n",
        "  x_train, x_test, y_train, y_test = train_test_split(x, y, test_size = 0,2, random_state=0) "
      ],
      "execution_count": null,
      "outputs": []
    },
    {
      "cell_type": "code",
      "metadata": {
        "id": "K7HDY9zgicT5"
      },
      "source": [
        "# melakukan fitting simpel linear Regression pada Terening  set \n",
        "  from sklearn.linear_model import LinearRegression \n",
        "  regressor = LinearRegression()\n",
        "  regressor.fit(x_train, y_train )"
      ],
      "execution_count": null,
      "outputs": []
    },
    {
      "cell_type": "code",
      "metadata": {
        "id": "Hwn3txAGjmEf"
      },
      "source": [
        "# memprediksi  data\n",
        "  y_pred = regressor.predict(x_test)"
      ],
      "execution_count": null,
      "outputs": []
    },
    {
      "cell_type": "code",
      "metadata": {
        "id": "e9Ty-K6Nj8ms"
      },
      "source": [
        "# visual data\n",
        "  plt.scatter(dataku.BiayaProduksi, dataku.NilaiPenjualan)\n",
        "  plt.xlebel(\"Biaya Produksi\")\n",
        "  plt.y_lebel(\"Nilai Penjualan\")\n",
        "  plt.title(\"Grafik Biaya Produksi vs Nilai Penjualan\")\n",
        "  plt.show"
      ],
      "execution_count": null,
      "outputs": []
    },
    {
      "cell_type": "code",
      "metadata": {
        "id": "SyyJfym1k2l1"
      },
      "source": [
        "# visualisasi Hasil prediksi pada Training-seti\n",
        "# Ukuran Plot \n",
        "  plt.figsize(figsize=(10,8))\n",
        "# Biru adalah data observation \n",
        "  plt.scatter(x_train, y_train, color = 'blue')\n",
        "# Garis merah adalah hasil prediksi dari machine learning\n",
        "  plt.plot(x_trian, regressor.predict(x_train), color = 'red')\n",
        "# memberi judul data lebel \n",
        "  plt.title('Biaya Produksi terhadap Penjualan (Training set)')\n",
        "  plt.xlebel('Biyaya Produksi')\n",
        "  plt.ylebel('Penjualan')\n",
        "  plt.show()\n"
      ],
      "execution_count": null,
      "outputs": []
    }
  ]
}